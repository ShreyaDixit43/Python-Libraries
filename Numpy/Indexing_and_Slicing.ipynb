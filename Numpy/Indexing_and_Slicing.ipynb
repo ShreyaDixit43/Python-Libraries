{
 "cells": [
  {
   "cell_type": "code",
   "execution_count": 1,
   "id": "191046e7-3c7c-43a2-af7e-ed04c4ddc457",
   "metadata": {},
   "outputs": [],
   "source": [
    "import numpy as np\n",
    "arr = np.array([[1,2,3],[4,5,6],[7, 8, 9],[10,11,12]])"
   ]
  },
  {
   "cell_type": "code",
   "execution_count": 2,
   "id": "d41b7e57-15a3-4277-bac2-232f4681d819",
   "metadata": {},
   "outputs": [
    {
     "data": {
      "text/plain": [
       "array([[ 1,  2,  3],\n",
       "       [ 4,  5,  6],\n",
       "       [ 7,  8,  9],\n",
       "       [10, 11, 12]])"
      ]
     },
     "execution_count": 2,
     "metadata": {},
     "output_type": "execute_result"
    }
   ],
   "source": [
    "arr"
   ]
  },
  {
   "cell_type": "code",
   "execution_count": 3,
   "id": "de4a37b5-5211-4d4d-bf74-8eba7d032ae6",
   "metadata": {},
   "outputs": [],
   "source": [
    "flat = arr.flatten()"
   ]
  },
  {
   "cell_type": "code",
   "execution_count": 4,
   "id": "2e3444ee-a03e-49e0-820c-38ee9adee7ed",
   "metadata": {},
   "outputs": [
    {
     "data": {
      "text/plain": [
       "array([ 1,  2,  3,  4,  5,  6,  7,  8,  9, 10, 11, 12])"
      ]
     },
     "execution_count": 4,
     "metadata": {},
     "output_type": "execute_result"
    }
   ],
   "source": [
    "flat"
   ]
  },
  {
   "cell_type": "code",
   "execution_count": 5,
   "id": "1bba1be2-a352-40f5-90ee-fbeb9d1542d1",
   "metadata": {},
   "outputs": [
    {
     "data": {
      "text/plain": [
       "np.int64(1)"
      ]
     },
     "execution_count": 5,
     "metadata": {},
     "output_type": "execute_result"
    }
   ],
   "source": [
    "flat[0]"
   ]
  },
  {
   "cell_type": "code",
   "execution_count": 7,
   "id": "7a794c8e-3718-46cf-9b0b-4f9163a53e2b",
   "metadata": {},
   "outputs": [
    {
     "data": {
      "text/plain": [
       "array([4, 5, 6])"
      ]
     },
     "execution_count": 7,
     "metadata": {},
     "output_type": "execute_result"
    }
   ],
   "source": [
    "flat[3:6]"
   ]
  },
  {
   "cell_type": "code",
   "execution_count": 8,
   "id": "61535047-0c46-413f-901c-ff94cd178006",
   "metadata": {},
   "outputs": [
    {
     "data": {
      "text/plain": [
       "array([1, 2, 3, 4, 5, 6])"
      ]
     },
     "execution_count": 8,
     "metadata": {},
     "output_type": "execute_result"
    }
   ],
   "source": [
    "flat[:6]"
   ]
  },
  {
   "cell_type": "code",
   "execution_count": 10,
   "id": "c471fe99-f5b0-4cb2-8b2d-420dff97ac59",
   "metadata": {},
   "outputs": [
    {
     "data": {
      "text/plain": [
       "array([ 4,  5,  6,  7,  8,  9, 10, 11, 12])"
      ]
     },
     "execution_count": 10,
     "metadata": {},
     "output_type": "execute_result"
    }
   ],
   "source": [
    "flat[3:] #[3:13]"
   ]
  },
  {
   "cell_type": "code",
   "execution_count": 11,
   "id": "82257885-1064-409a-aa96-94caa06682d8",
   "metadata": {},
   "outputs": [
    {
     "data": {
      "text/plain": [
       "array([ 4,  5,  6,  7,  8,  9, 10, 11, 12])"
      ]
     },
     "execution_count": 11,
     "metadata": {},
     "output_type": "execute_result"
    }
   ],
   "source": [
    "flat[3:13]"
   ]
  },
  {
   "cell_type": "code",
   "execution_count": 12,
   "id": "2056523c-dc7a-45cd-965a-9214f0d87a7b",
   "metadata": {},
   "outputs": [
    {
     "data": {
      "text/plain": [
       "array([ 1,  3,  5,  7,  9, 11])"
      ]
     },
     "execution_count": 12,
     "metadata": {},
     "output_type": "execute_result"
    }
   ],
   "source": [
    "flat[::2]"
   ]
  },
  {
   "cell_type": "code",
   "execution_count": 13,
   "id": "dd1f4c9d-fa2e-4787-bfeb-eb83d0637eb5",
   "metadata": {},
   "outputs": [
    {
     "data": {
      "text/plain": [
       "array([ 1,  2,  3,  4,  5,  6,  7,  8,  9, 10, 11, 12])"
      ]
     },
     "execution_count": 13,
     "metadata": {},
     "output_type": "execute_result"
    }
   ],
   "source": [
    "flat"
   ]
  },
  {
   "cell_type": "code",
   "execution_count": 18,
   "id": "f97dadca-461f-4b9f-ba13-cf3698017398",
   "metadata": {},
   "outputs": [],
   "source": [
    "b = flat[3:7].copy # this is not a slice bcz we are using copy methd to get the copy"
   ]
  },
  {
   "cell_type": "code",
   "execution_count": 15,
   "id": "5e7bb362-b2be-4ea7-9e3a-9d02554c59bc",
   "metadata": {},
   "outputs": [],
   "source": [
    "b[0] = 222"
   ]
  },
  {
   "cell_type": "code",
   "execution_count": 16,
   "id": "1aa41f4d-141b-4ce2-bc8f-fdcd75737f99",
   "metadata": {},
   "outputs": [
    {
     "data": {
      "text/plain": [
       "array([222,   5,   6,   7])"
      ]
     },
     "execution_count": 16,
     "metadata": {},
     "output_type": "execute_result"
    }
   ],
   "source": [
    "b"
   ]
  },
  {
   "cell_type": "code",
   "execution_count": 19,
   "id": "d0da7380-a526-4d1e-a2db-676149cefe80",
   "metadata": {},
   "outputs": [
    {
     "data": {
      "text/plain": [
       "array([  1,   2,   3, 222,   5,   6,   7,   8,   9,  10,  11,  12])"
      ]
     },
     "execution_count": 19,
     "metadata": {},
     "output_type": "execute_result"
    }
   ],
   "source": [
    "flat"
   ]
  },
  {
   "cell_type": "markdown",
   "id": "799c9760-fbc0-41d1-bf6a-1b7b5fb13ade",
   "metadata": {},
   "source": [
    "## Fancy Indexing & Boolean Masking ##"
   ]
  },
  {
   "cell_type": "code",
   "execution_count": 25,
   "id": "189faf9b-5612-4fe2-83c2-5473df44f21e",
   "metadata": {},
   "outputs": [],
   "source": [
    "arr1 = np.array([1,54,2,3,23,34,5,6])"
   ]
  },
  {
   "cell_type": "code",
   "execution_count": 27,
   "id": "af787d0d-1d48-4404-9880-8a1b1f7ae368",
   "metadata": {},
   "outputs": [
    {
     "data": {
      "text/plain": [
       "array([ 1, 23,  5])"
      ]
     },
     "execution_count": 27,
     "metadata": {},
     "output_type": "execute_result"
    }
   ],
   "source": [
    "arr1[[0,4,6]]"
   ]
  },
  {
   "cell_type": "code",
   "execution_count": 28,
   "id": "b917ea18-244b-42e0-8848-5bd0b0720f95",
   "metadata": {},
   "outputs": [
    {
     "name": "stdout",
     "output_type": "stream",
     "text": [
      "[30 40 50]\n"
     ]
    }
   ],
   "source": [
    "arr = np.array([10, 20, 30, 40, 50])\n",
    "mask = arr > 25  # Condition: values greater than 25\n",
    "print(arr[mask])  "
   ]
  },
  {
   "cell_type": "code",
   "execution_count": null,
   "id": "61fef1a6-6352-41eb-a468-9dfaa07b7680",
   "metadata": {},
   "outputs": [],
   "source": []
  }
 ],
 "metadata": {
  "kernelspec": {
   "display_name": "Python 3 (ipykernel)",
   "language": "python",
   "name": "python3"
  },
  "language_info": {
   "codemirror_mode": {
    "name": "ipython",
    "version": 3
   },
   "file_extension": ".py",
   "mimetype": "text/x-python",
   "name": "python",
   "nbconvert_exporter": "python",
   "pygments_lexer": "ipython3",
   "version": "3.12.4"
  }
 },
 "nbformat": 4,
 "nbformat_minor": 5
}
