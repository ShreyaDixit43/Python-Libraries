{
 "cells": [
  {
   "cell_type": "markdown",
   "id": "2c4c0377-792f-4de6-9727-0052c07c97b8",
   "metadata": {},
   "source": [
    "# Performance test"
   ]
  },
  {
   "cell_type": "code",
   "execution_count": 9,
   "id": "b4908823-055e-4fac-bf51-aee9f039777a",
   "metadata": {},
   "outputs": [
    {
     "name": "stdout",
     "output_type": "stream",
     "text": [
      "[0, 2, 4, 6, 8, 10, 12, 14, 16, 18]\n",
      "0.10408592224121094\n"
     ]
    }
   ],
   "source": [
    "#Using python lists\n",
    "import numpy as np\n",
    "import time\n",
    "\n",
    "size = 1_000_000\n",
    "start = time.time()\n",
    "l1 = list(range(size))\n",
    "l2 = list(range(size))\n",
    "\n",
    "start = time.time()\n",
    "add = [x+y for x,y in zip(l1, l2)]\n",
    "print(add[0:10])\n",
    "end = time.time()\n",
    "print(end - start)\n"
   ]
  },
  {
   "cell_type": "code",
   "execution_count": 10,
   "id": "2213e8df-1325-4de4-9a64-f2eed27e5387",
   "metadata": {},
   "outputs": [
    {
     "name": "stdout",
     "output_type": "stream",
     "text": [
      "[ 0  2  4  6  8 10 12 14 16 18]\n",
      "0.023067712783813477\n"
     ]
    }
   ],
   "source": [
    "#using numpy array\n",
    "import numpy as np\n",
    "import time\n",
    "\n",
    "size = 1_000_000\n",
    "start = time.time()\n",
    "l1 = np.array(list(range(size)))\n",
    "l2 = np.array(list(range(size)))\n",
    "\n",
    "start = time.time()\n",
    "# add = [x+y for x,y in zip(l1, l2)]\n",
    "add = l1 + l2\n",
    "print(add[0:10])\n",
    "end = time.time()\n",
    "print(end - start)\n"
   ]
  },
  {
   "cell_type": "code",
   "execution_count": 4,
   "id": "a0cfef68-ba86-4501-92d6-9dafca71be2a",
   "metadata": {},
   "outputs": [],
   "source": [
    "l1 = [1,2,4]\n",
    "l2 = [6,7, 8]"
   ]
  },
  {
   "cell_type": "code",
   "execution_count": 5,
   "id": "3173147d-612c-4685-825a-7fe3a52d44bf",
   "metadata": {},
   "outputs": [
    {
     "data": {
      "text/plain": [
       "[(1, 6), (2, 7), (4, 8)]"
      ]
     },
     "execution_count": 5,
     "metadata": {},
     "output_type": "execute_result"
    }
   ],
   "source": [
    "list(zip(l1,l2))"
   ]
  },
  {
   "cell_type": "code",
   "execution_count": 11,
   "id": "c5e9a5e9-39ce-42b4-80f0-7489e95f751d",
   "metadata": {},
   "outputs": [
    {
     "data": {
      "text/plain": [
       "array([1, 2, 3, 4, 5])"
      ]
     },
     "execution_count": 11,
     "metadata": {},
     "output_type": "execute_result"
    }
   ],
   "source": [
    "np.array([1,2,3,4,5])"
   ]
  },
  {
   "cell_type": "code",
   "execution_count": 16,
   "id": "b8af7506-f424-4dff-a0cc-d900158b0f59",
   "metadata": {},
   "outputs": [],
   "source": [
    "arr = np.array([[1,2,3],[4,5,6]])"
   ]
  },
  {
   "cell_type": "code",
   "execution_count": 17,
   "id": "44f401cd-9727-42a5-b8b2-15fc06d9d767",
   "metadata": {},
   "outputs": [
    {
     "data": {
      "text/plain": [
       "numpy.ndarray"
      ]
     },
     "execution_count": 17,
     "metadata": {},
     "output_type": "execute_result"
    }
   ],
   "source": [
    "type(arr)"
   ]
  },
  {
   "cell_type": "code",
   "execution_count": 18,
   "id": "ae8f1dd0-7a68-4b62-bbe3-b24bbbf53b7f",
   "metadata": {},
   "outputs": [
    {
     "data": {
      "text/plain": [
       "(2, 3)"
      ]
     },
     "execution_count": 18,
     "metadata": {},
     "output_type": "execute_result"
    }
   ],
   "source": [
    "arr.shape"
   ]
  },
  {
   "cell_type": "code",
   "execution_count": 49,
   "id": "76bfe391-4065-4d6b-91c8-14f2eb84da60",
   "metadata": {},
   "outputs": [
    {
     "name": "stdout",
     "output_type": "stream",
     "text": [
      "[8, 15]\n",
      "0.0009968280792236328\n"
     ]
    }
   ],
   "source": [
    "#time taken to multiply two python list vs numpy arrays\n",
    "\n",
    "import numpy as np\n",
    "import time\n",
    "\n",
    "#python list\n",
    "l1 = [2,3]\n",
    "l2 = [4, 5]\n",
    "start = time.time()\n",
    "multiply = [ x * y for x,y in zip(l1,l2)]\n",
    "print(multiply)\n",
    "end = time.time()\n",
    "print(end-start)\n"
   ]
  },
  {
   "cell_type": "code",
   "execution_count": 51,
   "id": "6db170f7-afc7-4868-8553-a1eef2107a8b",
   "metadata": {},
   "outputs": [
    {
     "name": "stdout",
     "output_type": "stream",
     "text": [
      "[ 8 15]\n",
      "0.0008258819580078125\n"
     ]
    }
   ],
   "source": [
    "l1 = np.array([2,3])\n",
    "l2 = np.array([4, 5])\n",
    "start = time.time()\n",
    "multiply = l1 * l2\n",
    "print(multiply)\n",
    "end = time.time()\n",
    "print(end-start)"
   ]
  },
  {
   "cell_type": "markdown",
   "id": "a8c62fa6-0883-42a5-b369-6016ae2950c3",
   "metadata": {},
   "source": [
    "# Memory Efficiency"
   ]
  },
  {
   "cell_type": "code",
   "execution_count": 20,
   "id": "8bc9eebc-623c-4f6d-a518-5de8bdbf6dcc",
   "metadata": {},
   "outputs": [
    {
     "name": "stdout",
     "output_type": "stream",
     "text": [
      "Python list size: 8056000 bytes\n",
      "NumPy array size: 8000 bytes\n"
     ]
    }
   ],
   "source": [
    "import sys\n",
    "\n",
    "list_data = list(range(1000))\n",
    "numpy_data = np.array(list_data)\n",
    "\n",
    "print(\"Python list size:\", sys.getsizeof(list_data) * len(list_data), \"bytes\")\n",
    "print(\"NumPy array size:\", numpy_data.nbytes, \"bytes\")"
   ]
  },
  {
   "cell_type": "code",
   "execution_count": 28,
   "id": "9aea4252-14d9-4c1a-aad3-b5f3e336e1e8",
   "metadata": {},
   "outputs": [
    {
     "name": "stdout",
     "output_type": "stream",
     "text": [
      "[0, 1, 4, 9, 16, 25, 36, 49, 64, 81]\n",
      "0.0013957023620605469\n"
     ]
    }
   ],
   "source": [
    "# Python list (loop-based)\n",
    "size = 10\n",
    "list1 = list(range(size))\n",
    "\n",
    "start = time.time()\n",
    "list_squares = [x ** 2 for x in list1]\n",
    "print(list_squares)\n",
    "end = time.time()\n",
    "print(end - start)\n"
   ]
  },
  {
   "cell_type": "code",
   "execution_count": 32,
   "id": "09b920f1-80b0-4dcc-8c1c-f74306e1510e",
   "metadata": {},
   "outputs": [
    {
     "name": "stdout",
     "output_type": "stream",
     "text": [
      "[ 0  1  4  9 16 25 36 49 64 81]\n",
      "0.0010941028594970703\n"
     ]
    }
   ],
   "source": [
    "size = 10\n",
    "arr1 = np.array(list(range(size)))\n",
    "start = time.time()\n",
    "numpy_squares = arr1 ** 2\n",
    "print(numpy_squares)\n",
    "end = time.time()\n",
    "print(end - start)"
   ]
  },
  {
   "cell_type": "code",
   "execution_count": 40,
   "id": "7531e9f4-f838-4207-915c-17afbdf4a262",
   "metadata": {},
   "outputs": [],
   "source": [
    "# Create a NumPy array with values from 10 to 100 and print its shape.\n",
    "np_arr = np.arange(10,101)"
   ]
  },
  {
   "cell_type": "code",
   "execution_count": 39,
   "id": "3937d139-a6f6-4109-95a0-f31d280eb071",
   "metadata": {},
   "outputs": [
    {
     "name": "stdout",
     "output_type": "stream",
     "text": [
      "(91,)\n"
     ]
    }
   ],
   "source": [
    "print(np_arr.shape)"
   ]
  },
  {
   "cell_type": "code",
   "execution_count": null,
   "id": "e38dca08-389e-4c5a-9d7a-479e9494e185",
   "metadata": {},
   "outputs": [],
   "source": []
  }
 ],
 "metadata": {
  "kernelspec": {
   "display_name": "Python 3 (ipykernel)",
   "language": "python",
   "name": "python3"
  },
  "language_info": {
   "codemirror_mode": {
    "name": "ipython",
    "version": 3
   },
   "file_extension": ".py",
   "mimetype": "text/x-python",
   "name": "python",
   "nbconvert_exporter": "python",
   "pygments_lexer": "ipython3",
   "version": "3.12.4"
  }
 },
 "nbformat": 4,
 "nbformat_minor": 5
}
